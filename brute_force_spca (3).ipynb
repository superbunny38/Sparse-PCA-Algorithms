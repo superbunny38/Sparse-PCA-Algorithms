{
  "nbformat": 4,
  "nbformat_minor": 0,
  "metadata": {
    "colab": {
      "provenance": []
    },
    "kernelspec": {
      "name": "python3",
      "display_name": "Python 3"
    },
    "language_info": {
      "name": "python"
    }
  },
  "cells": [
    {
      "cell_type": "markdown",
      "source": [
        "# Brute-Force SPCA\n",
        "This notebook implements the brute-force Sparse PCA algorithm. We compare performance across different values of sparsity `k` and matrix dimensions `p`.\n"
      ],
      "metadata": {
        "id": "E5hZYGulZlnZ"
      }
    },
    {
      "cell_type": "code",
      "source": [
        "pip install joblib"
      ],
      "metadata": {
        "colab": {
          "base_uri": "https://localhost:8080/"
        },
        "id": "cSCCmUZIEayx",
        "outputId": "fc493de1-cfb1-4d47-d957-25ddd88ee078"
      },
      "execution_count": null,
      "outputs": [
        {
          "output_type": "stream",
          "name": "stdout",
          "text": [
            "Requirement already satisfied: joblib in /usr/local/lib/python3.11/dist-packages (1.5.0)\n"
          ]
        }
      ]
    },
    {
      "cell_type": "code",
      "execution_count": null,
      "metadata": {
        "id": "FeYCkroRFG-b"
      },
      "outputs": [],
      "source": [
        "import numpy as np\n",
        "import math\n",
        "from itertools import combinations\n",
        "from tqdm import tqdm\n",
        "import matplotlib.pyplot as plt\n",
        "from joblib import Parallel, delayed\n",
        "\n"
      ]
    },
    {
      "cell_type": "code",
      "source": [
        "# Brute-force Sparse PCA with parallelization\n",
        "def brute_force_spca(orig_matrix, k):\n",
        "    p = orig_matrix.shape[0]\n",
        "    max_val = 0\n",
        "    best_subset = None\n",
        "\n",
        "    def process_subset(subset):\n",
        "        submatrix = orig_matrix[np.ix_(subset, subset)]\n",
        "        eigval = np.linalg.norm(submatrix, ord=2)\n",
        "        return eigval, subset\n",
        "\n",
        "    subsets = combinations(range(p), k)\n",
        "\n",
        "    # Parallelize the subset processing\n",
        "    results = Parallel(n_jobs=-1)(delayed(process_subset)(subset) for subset in tqdm(subsets, total=math.comb(p, k)))\n",
        "\n",
        "    # Find the max eigenvalue and best subset\n",
        "    for eigval, subset in results:\n",
        "        if eigval > max_val:\n",
        "            max_val = eigval\n",
        "            best_subset = subset\n",
        "\n",
        "    return max_val, best_subset"
      ],
      "metadata": {
        "id": "zgY0aziAZq8k"
      },
      "execution_count": null,
      "outputs": []
    },
    {
      "cell_type": "code",
      "source": [
        "# Set up synthetic matrix\n",
        "np.random.seed(42)\n",
        "K = 30\n",
        "p = 10\n",
        "D = np.random.randn(K, p)\n",
        "D /= np.linalg.norm(D, axis=1, ord=2, keepdims=True)\n",
        "B = D @ D.T\n",
        "B /= np.linalg.norm(B, ord=2)\n",
        "\n",
        "# Run brute-force SPCA for different k\n",
        "results = []\n",
        "\n",
        "MAX_FEASIBLE_K = 30\n",
        "\n",
        "for k in range(1, K + 1):\n",
        "    if k <= MAX_FEASIBLE_K:\n",
        "        val, _ = brute_force_spca(B, k)\n",
        "    else:\n",
        "        val = np.nan\n",
        "    results.append(val)\n"
      ],
      "metadata": {
        "colab": {
          "base_uri": "https://localhost:8080/"
        },
        "id": "pJXAuJsbZx9n",
        "outputId": "f813ed37-4fb6-4afa-a9ed-18cf90a7f59f"
      },
      "execution_count": null,
      "outputs": [
        {
          "output_type": "stream",
          "name": "stderr",
          "text": [
            "100%|██████████| 30/30 [00:00<00:00, 40.87it/s]\n",
            "100%|██████████| 435/435 [00:00<00:00, 10442.79it/s]\n",
            "100%|██████████| 4060/4060 [00:00<00:00, 30025.77it/s]\n",
            "100%|██████████| 27405/27405 [00:00<00:00, 30298.40it/s]\n",
            "100%|██████████| 142506/142506 [00:06<00:00, 21033.79it/s]\n",
            "100%|██████████| 593775/593775 [00:35<00:00, 16841.31it/s]\n",
            "100%|██████████| 2035800/2035800 [02:02<00:00, 16565.77it/s]\n",
            "100%|██████████| 5852925/5852925 [06:13<00:00, 15669.02it/s]\n",
            "100%|██████████| 14307150/14307150 [17:12<00:00, 13853.01it/s]\n",
            " 45%|████▍     | 13469692/30045015 [16:30<19:25, 14223.64it/s]"
          ]
        }
      ]
    },
    {
      "cell_type": "code",
      "source": [
        "# Plotting the results\n",
        "plt.plot(range(1, K + 1), results, label=\"Brute Force SPCA\")\n",
        "plt.xlabel('Sparsity (k)')\n",
        "plt.ylabel('Max Eigenvalue')\n",
        "plt.title('Sparse PCA Performance')\n",
        "plt.grid(True)\n",
        "plt.legend()\n",
        "plt.show()"
      ],
      "metadata": {
        "id": "5DdyLB5DZ4c2"
      },
      "execution_count": null,
      "outputs": []
    }
  ]
}