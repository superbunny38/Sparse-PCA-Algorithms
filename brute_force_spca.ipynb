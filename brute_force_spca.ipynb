import numpy as np
from itertools import combinations
from tqdm.notebook import tqdm


